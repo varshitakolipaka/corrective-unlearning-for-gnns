{
 "cells": [
  {
   "cell_type": "code",
   "execution_count": null,
   "metadata": {},
   "outputs": [],
   "source": [
    "import pickle\n",
    "import numpy as np\n",
    "import matplotlib.pyplot as plt\n",
    "\n",
    "with open(\"./affected_indices.pkl\", \"rb\") as f:\n",
    "    dictv = pickle.load(f)"
   ]
  },
  {
   "cell_type": "code",
   "execution_count": 6,
   "metadata": {},
   "outputs": [
    {
     "name": "stdout",
     "output_type": "stream",
     "text": [
      "Common elements across all arrays: [1540  646 1545 2858 1706 2925 2832 2801 1682  760 2840 2838 1976 2842\n",
      " 1693]\n"
     ]
    }
   ],
   "source": [
    "all_arrays = list(dictv.values())\n",
    "common_elements = set(all_arrays[0])\n",
    "for arr in all_arrays[1:]:\n",
    "    common_elements.intersection_update(arr)\n",
    "common_elements = np.array(list(common_elements))  # Convert to numpy array if needed\n",
    "\n",
    "print(\"Common elements across all arrays:\", common_elements)"
   ]
  },
  {
   "cell_type": "code",
   "execution_count": 8,
   "metadata": {},
   "outputs": [
    {
     "name": "stdout",
     "output_type": "stream",
     "text": [
      "Common element counts between subsequent keys: {(1, 50): 289, (50, 100): 50, (100, 200): 199, (200, 300): 196, (300, 500): 205, (500, 600): 228, (600, 700): 250, (700, 1208): 155}\n"
     ]
    }
   ],
   "source": [
    "common_counts = {}\n",
    "for i in range(1, len(keys)):\n",
    "    key1, key2 = keys[i - 1], keys[i]\n",
    "    arr1, arr2 = dictv[key1], dictv[key2]\n",
    "    common_count = len(set(arr1).intersection(arr2))\n",
    "    common_counts[(key1, key2)] = common_count\n",
    "\n",
    "print(\"Common element counts between subsequent keys:\", common_counts)"
   ]
  }
 ],
 "metadata": {
  "kernelspec": {
   "display_name": "unlearn",
   "language": "python",
   "name": "python3"
  },
  "language_info": {
   "codemirror_mode": {
    "name": "ipython",
    "version": 3
   },
   "file_extension": ".py",
   "mimetype": "text/x-python",
   "name": "python",
   "nbconvert_exporter": "python",
   "pygments_lexer": "ipython3",
   "version": "3.10.14"
  }
 },
 "nbformat": 4,
 "nbformat_minor": 2
}
