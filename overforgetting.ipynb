{
 "cells": [
  {
   "cell_type": "code",
<<<<<<< HEAD
   "execution_count": 1,
=======
   "execution_count": 45,
>>>>>>> 148aff94741e96f2c1f67f36c50e9b9a6626efef
   "metadata": {},
   "outputs": [],
   "source": [
    "import copy\n",
    "import torch\n",
    "from framework import utils\n",
    "from framework.training_args import parse_args\n",
    "from models.deletion import GCNDelete\n",
    "from models.models import GCN\n",
    "from trainers.base import Trainer\n",
    "from attacks.edge_attack import edge_attack_specific_nodes\n",
    "from attacks.label_flip import label_flip_attack\n",
    "# import optuna\n",
    "# from optuna.samplers import TPESampler\n",
    "from functools import partial\n"
   ]
  },
  {
   "cell_type": "code",
<<<<<<< HEAD
   "execution_count": 2,
=======
   "execution_count": 46,
>>>>>>> 148aff94741e96f2c1f67f36c50e9b9a6626efef
   "metadata": {},
   "outputs": [],
   "source": [
    "args = parse_args()\n",
<<<<<<< HEAD
    "args.attack_type=\"edge\"\n",
    "args.df_size= 2000\n",
    "args.request= \"edge\"\n",
=======
    "args.random_seed = 0\n",
    "args.df_size = 0.25\n",
>>>>>>> 148aff94741e96f2c1f67f36c50e9b9a6626efef
    "utils.seed_everything(args.random_seed)\n",
    "device = torch.device('cuda') if torch.cuda.is_available() else torch.device('cpu')\n",
    "\n",
    "def train():\n",
    "    # dataset\n",
    "    print(\"==TRAINING==\")\n",
    "    clean_data= utils.get_original_data(args.dataset)\n",
    "    utils.train_test_split(clean_data, args.random_seed, args.train_ratio)\n",
    "    utils.prints_stats(clean_data)\n",
    "    if \"gnndelete\" in args.unlearning_model:\n",
    "        clean_model = GCNDelete(clean_data.num_features, args.hidden_dim, clean_data.num_classes)\n",
    "    else:\n",
    "        clean_model = GCN(clean_data.num_features, args.hidden_dim, clean_data.num_classes)\n",
    "\n",
    "    optimizer = torch.optim.Adam(clean_model.parameters(), lr=0.01, weight_decay=5e-4)\n",
    "    clean_trainer = Trainer(clean_model, clean_data, optimizer, args.training_epochs)\n",
    "    clean_trainer.train()\n",
    "    a_p, a_c = clean_trainer.subset_acc(3,2)\n",
    "    print(f\"Accuracy on poisoned classes: {a_p}\")\n",
    "    print(f\"Accuracy on clean classes: {a_c}\")\n",
    "    return clean_data, clean_model\n",
    "\n",
    "def poison(clean_data):\n",
    "    print(\"==POISONING==\")\n",
    "    if args.attack_type==\"label\":\n",
    "        poisoned_data, poisoned_indices = label_flip_attack(clean_data, args.df_size, args.random_seed)\n",
    "    elif args.attack_type==\"edge\":\n",
    "        poisoned_data, poisoned_indices = edge_attack_specific_nodes(clean_data, args.df_size, args.random_seed)\n",
    "    elif args.attack_type==\"random\":\n",
    "        poisoned_data = copy.deepcopy(clean_data)\n",
    "        poisoned_indices = torch.randperm(clean_data.num_nodes)[:int(clean_data.num_nodes*args.df_size)]\n",
    "    poisoned_data= poisoned_data.to(device)\n",
    "\n",
    "    if \"gnndelete\" in args.unlearning_model:\n",
    "        poisoned_model = GCNDelete(poisoned_data.num_features, args.hidden_dim, poisoned_data.num_classes)\n",
    "    else:\n",
    "        poisoned_model = GCN(poisoned_data.num_features, args.hidden_dim, poisoned_data.num_classes)\n",
    "\n",
    "    optimizer = torch.optim.Adam(poisoned_model.parameters(), lr=0.01, weight_decay=5e-4)\n",
    "    poisoned_trainer = Trainer(poisoned_model, poisoned_data, optimizer, args.training_epochs)\n",
    "    poisoned_trainer.train()\n",
    "    a_p, a_c = poisoned_trainer.subset_acc()\n",
    "    print(f\"Accuracy on poisoned classes: {a_p}\")\n",
    "    print(f\"Accuracy on clean classes: {a_c}\")\n",
    "    return poisoned_data, poisoned_indices, poisoned_model\n",
    "\n",
    "def unlearn(poisoned_data, poisoned_indices, poisoned_model):\n",
    "    print(\"==UNLEARNING==\")\n",
    "\n",
    "    utils.find_masks(poisoned_data, poisoned_indices, args, attack_type=args.attack_type)\n",
    "    unlearn_model = None\n",
    "    if \"gnndelete\" in args.unlearning_model:\n",
    "        unlearn_model = GCNDelete(poisoned_data.num_features, args.hidden_dim, poisoned_data.num_classes, mask_1hop=poisoned_data.sdf_node_1hop_mask, mask_2hop=poisoned_data.sdf_node_2hop_mask)\n",
    "\n",
    "        # copy the weights from the poisoned model\n",
    "        unlearn_model.load_state_dict(poisoned_model.state_dict())\n",
    "\n",
    "        optimizer_unlearn= utils.get_optimizer(args, unlearn_model)\n",
    "        unlearn_trainer= utils.get_trainer(args, unlearn_model, poisoned_data, optimizer_unlearn)\n",
    "        unlearn_trainer.train()\n",
    "    elif \"retrain\" in args.unlearning_model:\n",
    "        unlearn_model = GCN(poisoned_data.num_features, args.hidden_dim, poisoned_data.num_classes)\n",
    "        optimizer_unlearn= utils.get_optimizer(args, unlearn_model)\n",
    "        unlearn_trainer= utils.get_trainer(args, unlearn_model, poisoned_data, optimizer_unlearn)\n",
    "        unlearn_trainer.train()\n",
    "    else:\n",
    "        unlearn_model = GCN(poisoned_data.num_features, args.hidden_dim, poisoned_data.num_classes)\n",
    "        unlearn_model.load_state_dict(poisoned_model.state_dict())\n",
    "        optimizer_unlearn= utils.get_optimizer(args, unlearn_model)\n",
    "        unlearn_trainer= utils.get_trainer(args, unlearn_model, poisoned_data, optimizer_unlearn)\n",
    "        unlearn_trainer.train()\n",
    "    a_p, a_c = unlearn_trainer.subset_acc()\n",
    "    print(f\"Accuracy on poisoned classes: {a_p}\")\n",
    "    print(f\"Accuracy on clean classes: {a_c}\")\n",
    "\n",
    "    print(\"==UNLEARNING DONE==\")\n",
    "    return unlearn_model"
   ]
  },
  {
   "cell_type": "code",
   "execution_count": null,
   "metadata": {},
   "outputs": [],
   "source": []
  },
  {
   "cell_type": "code",
<<<<<<< HEAD
   "execution_count": 3,
=======
   "execution_count": 47,
>>>>>>> 148aff94741e96f2c1f67f36c50e9b9a6626efef
   "metadata": {},
   "outputs": [
    {
     "name": "stdout",
     "output_type": "stream",
     "text": [
      "==TRAINING==\n",
      "Number of nodes:  2708\n",
      "Number of edges:  10556\n",
      "Number of features:  1433\n",
      "Number of classes:  7\n",
      "Number of training nodes:  2166\n",
      "Number of testing nodes:  542\n"
     ]
    },
    {
     "name": "stderr",
     "output_type": "stream",
     "text": [
<<<<<<< HEAD
      "Epoch: 100%|██████████| 600/600 [00:09<00:00, 65.73it/s]\n"
     ]
    },
    {
     "name": "stdout",
     "output_type": "stream",
     "text": [
      "Train Acc: 0.8966789667896679, Misclassification: 0,  F1 Score: 0.8966789667896679\n",
      "Poisoned class: 3 -> 2 | Clean classes: [0, 1, 4, 5, 6]\n",
      "Poisoned class acc: [0.926829268292683, 0.9701492537313433] | Clean class acc: [0.7777777777777778, 0.8695652173913043, 0.9207920792079208, 0.8688524590163934, 0.8709677419354839]\n",
      "Accuracy on poisoned classes: 0.9484892610120131\n",
      "Accuracy on clean classes: 0.861591055065776\n",
      "==POISONING==\n"
=======
      "Epoch:   0%|          | 0/600 [00:00<?, ?it/s]"
>>>>>>> 148aff94741e96f2c1f67f36c50e9b9a6626efef
     ]
    },
    {
     "name": "stderr",
     "output_type": "stream",
     "text": [
<<<<<<< HEAD
      "Adding Poisoned Edges:  68%|██████▊   | 1366/2000 [00:00<00:00, 29608.64it/s]\n",
      "Epoch: 100%|██████████| 600/600 [00:09<00:00, 62.02it/s]"
=======
      "Epoch: 100%|██████████| 600/600 [00:03<00:00, 160.70it/s]\n"
>>>>>>> 148aff94741e96f2c1f67f36c50e9b9a6626efef
     ]
    },
    {
     "name": "stdout",
     "output_type": "stream",
     "text": [
<<<<<<< HEAD
      "Train Acc: 0.8505535055350554, Misclassification: 0.11255411255411256,  F1 Score: 0.8505535055350554\n",
      "Poisoned class: 3 -> 2 | Clean classes: [0, 1, 4, 5, 6]\n",
      "Poisoned class acc: [0.8780487804878049, 0.7164179104477612] | Clean class acc: [0.7777777777777778, 0.8260869565217391, 0.9306930693069307, 0.8852459016393442, 0.8709677419354839]\n",
      "Accuracy on poisoned classes: 0.797233345467783\n",
      "Accuracy on clean classes: 0.858154289436255\n"
=======
      "Train Acc: 0.9003690036900369, Misclassification: 0,  F1 Score: 0.9003690036900369\n",
      "Poisoned class: 3 -> 2 | Clean classes: [0, 1, 4, 5, 6]\n",
      "Poisoned class acc: [0.9390243902439024, 0.9701492537313433] | Clean class acc: [0.7777777777777778, 0.8695652173913043, 0.9207920792079208, 0.8688524590163934, 0.8709677419354839]\n",
      "Accuracy on poisoned classes: 0.9545868219876228\n",
      "Accuracy on clean classes: 0.861591055065776\n",
      "==POISONING==\n",
      "Poisoned 541 labels from class 3 and class 2\n"
     ]
    },
    {
     "name": "stderr",
     "output_type": "stream",
     "text": [
      "Epoch: 100%|██████████| 600/600 [00:03<00:00, 163.50it/s]"
     ]
    },
    {
     "name": "stdout",
     "output_type": "stream",
     "text": [
      "Train Acc: 0.7324723247232472, Misclassification: 0.37662337662337664,  F1 Score: 0.7324723247232472\n",
      "Poisoned class: 3 -> 2 | Clean classes: [0, 1, 4, 5, 6]\n",
      "Poisoned class acc: [0.7682926829268293, 0.014925373134328358] | Clean class acc: [0.7916666666666666, 0.8478260869565217, 0.9306930693069307, 0.8688524590163934, 0.8709677419354839]\n",
      "Accuracy on poisoned classes: 0.39160902803057884\n",
      "Accuracy on clean classes: 0.8620012047763993\n"
>>>>>>> 148aff94741e96f2c1f67f36c50e9b9a6626efef
     ]
    },
    {
     "name": "stderr",
     "output_type": "stream",
     "text": [
      "\n"
     ]
    }
   ],
   "source": [
    "clean_data, clean_model = train()\n",
    "poisoned_data, poisoned_indices, poisoned_model = poison(clean_data)"
   ]
  },
  {
   "cell_type": "code",
<<<<<<< HEAD
   "execution_count": 5,
=======
   "execution_count": 48,
>>>>>>> 148aff94741e96f2c1f67f36c50e9b9a6626efef
   "metadata": {},
   "outputs": [
    {
     "name": "stdout",
     "output_type": "stream",
     "text": [
      "==UNLEARNING==\n",
      "parameters_to_optimize ['conv1.bias', 'conv1.lin.weight', 'conv2.bias', 'conv2.lin.weight']\n"
     ]
    },
    {
     "name": "stderr",
     "output_type": "stream",
     "text": [
<<<<<<< HEAD
      "Epoch:   0%|          | 0/600 [00:00<?, ?it/s]"
     ]
    },
    {
     "name": "stderr",
     "output_type": "stream",
     "text": [
      "Epoch: 100%|██████████| 600/600 [00:10<00:00, 54.68it/s]"
=======
      "Epoch: 100%|██████████| 600/600 [00:03<00:00, 166.49it/s]\n"
>>>>>>> 148aff94741e96f2c1f67f36c50e9b9a6626efef
     ]
    },
    {
     "name": "stdout",
     "output_type": "stream",
     "text": [
<<<<<<< HEAD
      "Training Time: 10.975851058959961\n",
      "Train Acc: 0.8357933579335793, Misclassification: 0.05194805194805195,  F1 Score: 0.8357933579335793\n",
      "Poisoned class: 3 -> 2 | Clean classes: [0, 1, 4, 5, 6]\n",
      "Poisoned class acc: [0.8414634146341463, 0.8805970149253731] | Clean class acc: [0.6527777777777778, 0.8478260869565217, 0.9108910891089109, 0.8524590163934426, 0.8387096774193549]\n",
      "Accuracy on poisoned classes: 0.8610302147797597\n",
      "Accuracy on clean classes: 0.8205327295312015\n",
=======
      "Training Time: 3.608393669128418\n",
      "Train Acc: 0.8044280442804428, Misclassification: 0.017316017316017316,  F1 Score: 0.8044280442804428\n",
      "Poisoned class: 3 -> 2 | Clean classes: [0, 1, 4, 5, 6]\n",
      "Poisoned class acc: [0.7926829268292683, 0.6716417910447762] | Clean class acc: [0.7222222222222222, 0.8478260869565217, 0.9306930693069307, 0.8032786885245902, 0.8709677419354839]\n",
      "Accuracy on poisoned classes: 0.7321623589370223\n",
      "Accuracy on clean classes: 0.8349975617891496\n",
>>>>>>> 148aff94741e96f2c1f67f36c50e9b9a6626efef
      "==UNLEARNING DONE==\n"
     ]
    }
   ],
   "source": [
    "args.unlearning_model=\"retrain\"\n",
    "args.unlearning_epochs=600\n",
    "retrain_model = unlearn(poisoned_data, poisoned_indices, poisoned_model)"
   ]
  },
  {
   "cell_type": "code",
<<<<<<< HEAD
   "execution_count": 4,
=======
   "execution_count": 49,
>>>>>>> 148aff94741e96f2c1f67f36c50e9b9a6626efef
   "metadata": {},
   "outputs": [
    {
     "name": "stdout",
     "output_type": "stream",
     "text": [
      "==UNLEARNING==\n",
      "HAHAHAHAHHHA\n",
      "parameters_to_optimize ['deletion1.deletion_weight', 'deletion2.deletion_weight']\n"
     ]
    },
    {
     "name": "stderr",
     "output_type": "stream",
     "text": [
<<<<<<< HEAD
      "Unlearning: 100%|██████████| 11/11 [00:00<00:00, 44.33it/s]"
=======
      "Unlearning: 100%|██████████| 50/50 [00:00<00:00, 62.13it/s]"
>>>>>>> 148aff94741e96f2c1f67f36c50e9b9a6626efef
     ]
    },
    {
     "name": "stdout",
     "output_type": "stream",
     "text": [
<<<<<<< HEAD
      "Train Acc: 0.6808118081180812, Misclassification: 0.29004329004329005,  F1 Score: 0.6808118081180812\n",
      "Poisoned class: 3 -> 2 | Clean classes: [0, 1, 4, 5, 6]\n",
      "Poisoned class acc: [0.9939024390243902, 0.0] | Clean class acc: [0.4583333333333333, 0.5217391304347826, 0.8613861386138614, 0.7049180327868853, 0.6129032258064516]\n",
      "Accuracy on poisoned classes: 0.4969512195121951\n",
      "Accuracy on clean classes: 0.6318559721950628\n",
=======
      "Train Acc: 0.7158671586715867, Misclassification: 0.26406926406926406,  F1 Score: 0.7158671586715867\n",
      "Poisoned class: 3 -> 2 | Clean classes: [0, 1, 4, 5, 6]\n",
      "Poisoned class acc: [0.7804878048780488, 0.0] | Clean class acc: [0.8888888888888888, 0.8913043478260869, 0.9405940594059405, 0.7377049180327869, 0.4838709677419355]\n",
      "Accuracy on poisoned classes: 0.3902439024390244\n",
      "Accuracy on clean classes: 0.7884726363791278\n",
>>>>>>> 148aff94741e96f2c1f67f36c50e9b9a6626efef
      "==UNLEARNING DONE==\n"
     ]
    },
    {
     "name": "stderr",
     "output_type": "stream",
     "text": [
      "\n"
     ]
    }
   ],
   "source": [
    "args.unlearning_model=\"gnndelete\"\n",
    "args.alpha=0.13562502173631136\n",
    "args.loss_type=\"only2_layerwise\"\n",
    "args.unlearn_lr= 0.004471589952882114\n",
    "args.unlearning_epochs= 11\n",
    "args.weight_decay=0.005860530613250786\n",
    "unlearn_model = unlearn(poisoned_data, poisoned_indices, poisoned_model)"
   ]
  },
  {
   "cell_type": "code",
<<<<<<< HEAD
   "execution_count": 6,
=======
   "execution_count": 50,
>>>>>>> 148aff94741e96f2c1f67f36c50e9b9a6626efef
   "metadata": {},
   "outputs": [
    {
     "name": "stdout",
     "output_type": "stream",
     "text": [
      "==TRAINING==\n",
      "Number of nodes:  2708\n",
      "Number of edges:  10556\n",
      "Number of features:  1433\n",
      "Number of classes:  7\n",
      "Number of training nodes:  2166\n",
      "Number of testing nodes:  542\n"
     ]
    },
    {
     "name": "stderr",
     "output_type": "stream",
     "text": [
<<<<<<< HEAD
      "Epoch: 100%|██████████| 600/600 [00:10<00:00, 58.65it/s]\n"
=======
      "Epoch:   0%|          | 0/600 [00:00<?, ?it/s]"
     ]
    },
    {
     "name": "stderr",
     "output_type": "stream",
     "text": [
      "Epoch: 100%|██████████| 600/600 [00:03<00:00, 171.03it/s]\n"
>>>>>>> 148aff94741e96f2c1f67f36c50e9b9a6626efef
     ]
    },
    {
     "name": "stdout",
     "output_type": "stream",
     "text": [
      "Train Acc: 0.8966789667896679, Misclassification: 0,  F1 Score: 0.8966789667896679\n",
      "Poisoned class: 3 -> 2 | Clean classes: [0, 1, 4, 5, 6]\n",
      "Poisoned class acc: [0.926829268292683, 0.9701492537313433] | Clean class acc: [0.7777777777777778, 0.8695652173913043, 0.9207920792079208, 0.8688524590163934, 0.8709677419354839]\n",
      "Accuracy on poisoned classes: 0.9484892610120131\n",
      "Accuracy on clean classes: 0.861591055065776\n",
<<<<<<< HEAD
      "==POISONING==\n"
=======
      "==POISONING==\n",
      "Poisoned 541 labels from class 3 and class 2\n"
>>>>>>> 148aff94741e96f2c1f67f36c50e9b9a6626efef
     ]
    },
    {
     "name": "stderr",
     "output_type": "stream",
     "text": [
<<<<<<< HEAD
      "Adding Poisoned Edges:  68%|██████▊   | 1366/2000 [00:00<00:00, 31066.22it/s]\n",
      "Epoch: 100%|██████████| 600/600 [00:11<00:00, 50.27it/s]"
=======
      "Epoch: 100%|██████████| 600/600 [00:03<00:00, 178.16it/s]\n"
>>>>>>> 148aff94741e96f2c1f67f36c50e9b9a6626efef
     ]
    },
    {
     "name": "stdout",
     "output_type": "stream",
     "text": [
<<<<<<< HEAD
      "Train Acc: 0.8505535055350554, Misclassification: 0.11688311688311688,  F1 Score: 0.8505535055350554\n",
      "Poisoned class: 3 -> 2 | Clean classes: [0, 1, 4, 5, 6]\n",
      "Poisoned class acc: [0.8719512195121951, 0.7164179104477612] | Clean class acc: [0.7777777777777778, 0.8260869565217391, 0.9405940594059405, 0.8852459016393442, 0.8709677419354839]\n",
      "Accuracy on poisoned classes: 0.7941845649799781\n",
      "Accuracy on clean classes: 0.860134487456057\n",
      "==UNLEARNING==\n",
      "parameters_to_optimize ['conv1.bias', 'conv1.lin.weight', 'conv2.bias', 'conv2.lin.weight']\n",
      "Train Acc: 0.8653136531365314, Misclassification: 0.06060606060606061,  F1 Score: 0.8653136531365314\n",
      "Poisoned class: 3 -> 2 | Clean classes: [0, 1, 4, 5, 6]\n",
      "Poisoned class acc: [0.8475609756097561, 0.8955223880597015] | Clean class acc: [0.7916666666666666, 0.8260869565217391, 0.9405940594059405, 0.8688524590163934, 0.8709677419354839]\n",
      "Accuracy on poisoned classes: 0.8715416818347288\n",
      "Accuracy on clean classes: 0.8596335767092447\n",
=======
      "Train Acc: 0.7250922509225092, Misclassification: 0.38095238095238093,  F1 Score: 0.7250922509225092\n",
      "Poisoned class: 3 -> 2 | Clean classes: [0, 1, 4, 5, 6]\n",
      "Poisoned class acc: [0.7378048780487805, 0.029850746268656716] | Clean class acc: [0.7916666666666666, 0.8478260869565217, 0.9306930693069307, 0.8688524590163934, 0.8709677419354839]\n",
      "Accuracy on poisoned classes: 0.3838278121587186\n",
      "Accuracy on clean classes: 0.8620012047763993\n",
      "==UNLEARNING==\n",
      "parameters_to_optimize ['conv1.bias', 'conv1.lin.weight', 'conv2.bias', 'conv2.lin.weight']\n",
      "Train Acc: 0.7269372693726938, Misclassification: 0.329004329004329,  F1 Score: 0.7269372693726938\n",
      "Poisoned class: 3 -> 2 | Clean classes: [0, 1, 4, 5, 6]\n",
      "Poisoned class acc: [0.7012195121951219, 0.11940298507462686] | Clean class acc: [0.8194444444444444, 0.8695652173913043, 0.9207920792079208, 0.8524590163934426, 0.8709677419354839]\n",
      "Accuracy on poisoned classes: 0.4103112486348744\n",
      "Accuracy on clean classes: 0.8666456998745191\n",
>>>>>>> 148aff94741e96f2c1f67f36c50e9b9a6626efef
      "==UNLEARNING DONE==\n"
     ]
    },
    {
     "name": "stderr",
     "output_type": "stream",
     "text": [
      "\n"
     ]
    }
   ],
   "source": [
    "args.unlearning_model=\"utu\"\n",
    "clean_data, clean_model = train()\n",
    "poisoned_data, poisoned_indices, poisoned_model = poison(clean_data)\n",
    "args.unlearning_epochs=1\n",
    "unlearn_model_utu = unlearn(poisoned_data, poisoned_indices, poisoned_model)"
   ]
  },
  {
   "cell_type": "code",
<<<<<<< HEAD
   "execution_count": 7,
=======
   "execution_count": 51,
>>>>>>> 148aff94741e96f2c1f67f36c50e9b9a6626efef
   "metadata": {},
   "outputs": [
    {
     "name": "stdout",
     "output_type": "stream",
     "text": [
      "==TRAINING==\n",
      "Number of nodes:  2708\n",
      "Number of edges:  10556\n",
      "Number of features:  1433\n",
      "Number of classes:  7\n",
      "Number of training nodes:  2166\n",
      "Number of testing nodes:  542\n"
     ]
    },
    {
     "name": "stderr",
     "output_type": "stream",
     "text": [
<<<<<<< HEAD
      "Epoch: 100%|██████████| 600/600 [00:09<00:00, 61.78it/s]\n"
     ]
    },
    {
     "name": "stdout",
     "output_type": "stream",
     "text": [
      "Train Acc: 0.8966789667896679, Misclassification: 0,  F1 Score: 0.8966789667896679\n",
      "Poisoned class: 3 -> 2 | Clean classes: [0, 1, 4, 5, 6]\n",
      "Poisoned class acc: [0.926829268292683, 0.9701492537313433] | Clean class acc: [0.7777777777777778, 0.8695652173913043, 0.9207920792079208, 0.8688524590163934, 0.8709677419354839]\n",
      "Accuracy on poisoned classes: 0.9484892610120131\n",
      "Accuracy on clean classes: 0.861591055065776\n",
      "==POISONING==\n"
=======
      "Epoch:   0%|          | 0/600 [00:00<?, ?it/s]"
>>>>>>> 148aff94741e96f2c1f67f36c50e9b9a6626efef
     ]
    },
    {
     "name": "stderr",
     "output_type": "stream",
     "text": [
<<<<<<< HEAD
      "Adding Poisoned Edges:  68%|██████▊   | 1366/2000 [00:00<00:00, 24145.73it/s]\n",
      "Epoch: 100%|██████████| 600/600 [00:11<00:00, 52.00it/s]\n"
=======
      "Epoch: 100%|██████████| 600/600 [00:02<00:00, 204.21it/s]\n"
>>>>>>> 148aff94741e96f2c1f67f36c50e9b9a6626efef
     ]
    },
    {
     "name": "stdout",
     "output_type": "stream",
     "text": [
<<<<<<< HEAD
      "Train Acc: 0.8523985239852399, Misclassification: 0.11688311688311688,  F1 Score: 0.8523985239852399\n",
      "Poisoned class: 3 -> 2 | Clean classes: [0, 1, 4, 5, 6]\n",
      "Poisoned class acc: [0.8719512195121951, 0.7164179104477612] | Clean class acc: [0.7777777777777778, 0.8260869565217391, 0.9405940594059405, 0.9016393442622951, 0.8709677419354839]\n",
      "Accuracy on poisoned classes: 0.7941845649799781\n",
      "Accuracy on clean classes: 0.8634131759806472\n",
=======
      "Train Acc: 0.8985239852398524, Misclassification: 0,  F1 Score: 0.8985239852398524\n",
      "Poisoned class: 3 -> 2 | Clean classes: [0, 1, 4, 5, 6]\n",
      "Poisoned class acc: [0.9329268292682927, 0.9701492537313433] | Clean class acc: [0.7777777777777778, 0.8695652173913043, 0.9207920792079208, 0.8688524590163934, 0.8709677419354839]\n",
      "Accuracy on poisoned classes: 0.951538041499818\n",
      "Accuracy on clean classes: 0.861591055065776\n",
      "==POISONING==\n",
      "Poisoned 541 labels from class 3 and class 2\n"
     ]
    },
    {
     "name": "stderr",
     "output_type": "stream",
     "text": [
      "Epoch: 100%|██████████| 600/600 [00:03<00:00, 187.50it/s]\n"
     ]
    },
    {
     "name": "stdout",
     "output_type": "stream",
     "text": [
      "Train Acc: 0.7250922509225092, Misclassification: 0.38095238095238093,  F1 Score: 0.7250922509225092\n",
      "Poisoned class: 3 -> 2 | Clean classes: [0, 1, 4, 5, 6]\n",
      "Poisoned class acc: [0.7378048780487805, 0.029850746268656716] | Clean class acc: [0.7916666666666666, 0.8478260869565217, 0.9306930693069307, 0.8688524590163934, 0.8709677419354839]\n",
      "Accuracy on poisoned classes: 0.3838278121587186\n",
      "Accuracy on clean classes: 0.8620012047763993\n",
>>>>>>> 148aff94741e96f2c1f67f36c50e9b9a6626efef
      "==UNLEARNING==\n",
      "parameters_to_optimize ['conv1.bias', 'conv1.lin.weight', 'conv2.bias', 'conv2.lin.weight']\n"
     ]
    },
    {
     "name": "stderr",
     "output_type": "stream",
     "text": [
<<<<<<< HEAD
      "Unlearning 1: 100%|██████████| 30/30 [04:17<00:00,  8.60s/it]\n",
      "Unlearning 2: 100%|██████████| 10/10 [00:00<00:00, 51.26it/s]"
=======
      "Unlearning 1: 100%|██████████| 30/30 [00:13<00:00,  2.18it/s]\n",
      "Unlearning 2: 100%|██████████| 10/10 [00:00<00:00, 415.15it/s]"
>>>>>>> 148aff94741e96f2c1f67f36c50e9b9a6626efef
     ]
    },
    {
     "name": "stdout",
     "output_type": "stream",
     "text": [
<<<<<<< HEAD
      "Train Acc: 0.8616236162361623, Misclassification: 0.06060606060606061,  F1 Score: 0.8616236162361623\n",
      "Training time: 259.0810399055481\n",
      "Poisoned class: 3 -> 2 | Clean classes: [0, 1, 4, 5, 6]\n",
      "Poisoned class acc: [0.8414634146341463, 0.8805970149253731] | Clean class acc: [0.75, 0.8695652173913043, 0.9405940594059405, 0.8852459016393442, 0.8709677419354839]\n",
      "Accuracy on poisoned classes: 0.8610302147797597\n",
      "Accuracy on clean classes: 0.8632745840744146\n",
=======
      "Train Acc: 0.8487084870848709, Misclassification: 0.021645021645021644,  F1 Score: 0.8487084870848709\n",
      "Training time: 13.788569688796997\n",
      "Poisoned class: 3 -> 2 | Clean classes: [0, 1, 4, 5, 6]\n",
      "Poisoned class acc: [0.8292682926829268, 0.8059701492537313] | Clean class acc: [0.7638888888888888, 0.9130434782608695, 0.9306930693069307, 0.8524590163934426, 0.8709677419354839]\n",
      "Accuracy on poisoned classes: 0.8176192209683291\n",
      "Accuracy on clean classes: 0.8662104389571231\n",
>>>>>>> 148aff94741e96f2c1f67f36c50e9b9a6626efef
      "==UNLEARNING DONE==\n"
     ]
    },
    {
     "name": "stderr",
     "output_type": "stream",
     "text": [
      "\n"
     ]
    }
   ],
   "source": [
    "args.unlearning_model=\"contrastive\"\n",
    "clean_data, clean_model = train()\n",
    "poisoned_data, poisoned_indices, poisoned_model = poison(clean_data)\n",
    "args.unlearning_epochs=1\n",
    "unlearn_model_contrastive = unlearn(poisoned_data, poisoned_indices, poisoned_model)"
   ]
  },
  {
   "cell_type": "code",
<<<<<<< HEAD
   "execution_count": 8,
=======
   "execution_count": 52,
   "metadata": {},
   "outputs": [
    {
     "name": "stdout",
     "output_type": "stream",
     "text": [
      "==TRAINING==\n",
      "Number of nodes:  2708\n",
      "Number of edges:  10556\n",
      "Number of features:  1433\n",
      "Number of classes:  7\n",
      "Number of training nodes:  2166\n",
      "Number of testing nodes:  542\n"
     ]
    },
    {
     "name": "stderr",
     "output_type": "stream",
     "text": [
      "Epoch:   0%|          | 0/600 [00:00<?, ?it/s]"
     ]
    },
    {
     "name": "stderr",
     "output_type": "stream",
     "text": [
      "Epoch: 100%|██████████| 600/600 [00:02<00:00, 226.21it/s]\n"
     ]
    },
    {
     "name": "stdout",
     "output_type": "stream",
     "text": [
      "Train Acc: 0.8966789667896679, Misclassification: 0,  F1 Score: 0.8966789667896679\n",
      "Poisoned class: 3 -> 2 | Clean classes: [0, 1, 4, 5, 6]\n",
      "Poisoned class acc: [0.926829268292683, 0.9701492537313433] | Clean class acc: [0.7777777777777778, 0.8695652173913043, 0.9207920792079208, 0.8688524590163934, 0.8709677419354839]\n",
      "Accuracy on poisoned classes: 0.9484892610120131\n",
      "Accuracy on clean classes: 0.861591055065776\n",
      "==POISONING==\n",
      "Poisoned 541 labels from class 3 and class 2\n"
     ]
    },
    {
     "name": "stderr",
     "output_type": "stream",
     "text": [
      "Epoch: 100%|██████████| 600/600 [00:03<00:00, 188.48it/s]\n"
     ]
    },
    {
     "name": "stdout",
     "output_type": "stream",
     "text": [
      "Train Acc: 0.7250922509225092, Misclassification: 0.38095238095238093,  F1 Score: 0.7250922509225092\n",
      "Poisoned class: 3 -> 2 | Clean classes: [0, 1, 4, 5, 6]\n",
      "Poisoned class acc: [0.7378048780487805, 0.029850746268656716] | Clean class acc: [0.7916666666666666, 0.8478260869565217, 0.9306930693069307, 0.8688524590163934, 0.8709677419354839]\n",
      "Accuracy on poisoned classes: 0.3838278121587186\n",
      "Accuracy on clean classes: 0.8620012047763993\n",
      "==UNLEARNING==\n",
      "parameters_to_optimize ['conv1.bias', 'conv1.lin.weight', 'conv2.bias', 'conv2.lin.weight']\n",
      "Test Acc: 0.7564575645756457, Misclassification: 0.008658008658008658,  F1 Score: 0.7564575645756457\n",
      "Poisoned class: 3 -> 2 | Clean classes: [0, 1, 4, 5, 6]\n",
      "Poisoned class acc: [0.9085365853658537, 0.0] | Clean class acc: [0.6944444444444444, 0.9130434782608695, 0.8712871287128713, 0.8852459016393442, 0.8709677419354839]\n",
      "Accuracy on poisoned classes: 0.45426829268292684\n",
      "Accuracy on clean classes: 0.8469977389986025\n",
      "==UNLEARNING DONE==\n"
     ]
    }
   ],
   "source": [
    "args.unlearning_model=\"scrub\"\n",
    "args.msteps = 35\n",
    "args.scrubAlpha = 0.18448019255320297\n",
    "args.unlearn_iters = 74\n",
    "clean_data, clean_model = train()\n",
    "poisoned_data, poisoned_indices, poisoned_model = poison(clean_data)\n",
    "args.unlearning_epochs=1\n",
    "unlearn_model_scrub = unlearn(poisoned_data, poisoned_indices, poisoned_model)"
   ]
  },
  {
   "cell_type": "code",
   "execution_count": 57,
>>>>>>> 148aff94741e96f2c1f67f36c50e9b9a6626efef
   "metadata": {},
   "outputs": [
    {
     "name": "stdout",
     "output_type": "stream",
     "text": [
      "Number of nodes:  231\n",
      "(231,)\n",
      "(231,)\n",
      "(231,)\n",
      "(231,)\n"
     ]
    }
   ],
   "source": [
    "import torch.nn.functional as F\n",
    "\n",
    "# compare p_retrain - p_unlearn for retain mask and plot density of nodes against change in prediction probability\n",
    "diffs = []\n",
    "retain_embs = F.softmax(clean_model(clean_data.x, clean_data.edge_index), dim=1)\n",
    "\n",
    "unlearn_embs = F.softmax(unlearn_model(poisoned_data.x, poisoned_data.edge_index[:,poisoned_data.dr_mask]), dim=1)\n",
    "\n",
    "diffs_2 = []\n",
    "unlearn_embs_utu = F.softmax(unlearn_model_utu(poisoned_data.x, poisoned_data.edge_index[:,poisoned_data.dr_mask]), dim=1)\n",
    "\n",
    "diffs_3 = []\n",
    "unlearn_embs_contrastive = F.softmax(unlearn_model_contrastive(poisoned_data.x, poisoned_data.edge_index[:,poisoned_data.dr_mask]), dim=1)\n",
    "\n",
    "diffs_4 = []\n",
    "unlearn_embs_scrub = F.softmax(unlearn_model_scrub(poisoned_data.x, poisoned_data.edge_index[:,poisoned_data.dr_mask]), dim=1)\n",
    "\n",
    "for i in range(len(retain_embs)):\n",
    "    if poisoned_data.test_mask[i] == 0:\n",
    "        continue\n",
    "    if poisoned_data.y[i] == poisoned_data.class1 or poisoned_data.y[i] == poisoned_data.class2:\n",
    "        # continue\n",
    "        diff = retain_embs[i] - unlearn_embs[i]\n",
    "        diffs.append(diff)\n",
    "\n",
    "        diff_2 = retain_embs[i] - unlearn_embs_utu[i]\n",
    "        diffs_2.append(diff_2)\n",
    "\n",
    "        diff_3 = retain_embs[i] - unlearn_embs_contrastive[i]\n",
    "        diffs_3.append(diff_3)\n",
<<<<<<< HEAD
    "\n",
=======
    "        \n",
    "        diff_4 = retain_embs[i] - unlearn_embs_scrub[i]\n",
    "        diffs_4.append(diff_4)\n",
    "    \n",
>>>>>>> 148aff94741e96f2c1f67f36c50e9b9a6626efef
    "print(\"Number of nodes: \", len(diffs))\n",
    "\n",
    "diffs = torch.stack(diffs).cpu().detach().numpy()\n",
    "diffs_2 = torch.stack(diffs_2).cpu().detach().numpy()\n",
    "diffs_3 = torch.stack(diffs_3).cpu().detach().numpy()\n",
    "diffs_4 = torch.stack(diffs_4).cpu().detach().numpy()\n",
    "\n",
    "# normalize the differences to a gaussian with mean 0 and std 1 for each class\n",
    "diffs = (diffs - diffs.mean(axis=0)) / diffs.std(axis=0)\n",
    "diffs_2 = (diffs_2 - diffs_2.mean(axis=0)) / diffs_2.std(axis=0)\n",
    "diffs_3 = (diffs_3 - diffs_3.mean(axis=0)) / diffs_3.std(axis=0)\n",
    "diffs_4 = (diffs_4 - diffs_4.mean(axis=0)) / diffs_4.std(axis=0)\n",
    "\n",
    "# take mean across all classes\n",
    "diffs = diffs.mean(axis=1)\n",
    "diffs_2 = diffs_2.mean(axis=1)\n",
    "diffs_3 = diffs_3.mean(axis=1)\n",
    "diffs_4 = diffs_4.mean(axis=1)\n",
    "\n",
    "print(diffs.shape)\n",
    "print(diffs_2.shape)\n",
    "print(diffs_3.shape)\n",
    "print(diffs_4.shape)"
   ]
  },
  {
   "cell_type": "code",
<<<<<<< HEAD
   "execution_count": 9,
   "metadata": {},
   "outputs": [
    {
     "ename": "ModuleNotFoundError",
     "evalue": "No module named 'seaborn'",
     "output_type": "error",
     "traceback": [
      "\u001b[1;31m---------------------------------------------------------------------------\u001b[0m",
      "\u001b[1;31mModuleNotFoundError\u001b[0m                       Traceback (most recent call last)",
      "Cell \u001b[1;32mIn[9], line 2\u001b[0m\n\u001b[0;32m      1\u001b[0m \u001b[38;5;66;03m# plot a histogram of the differences with seaborn\u001b[39;00m\n\u001b[1;32m----> 2\u001b[0m \u001b[38;5;28;01mimport\u001b[39;00m \u001b[38;5;21;01mseaborn\u001b[39;00m \u001b[38;5;28;01mas\u001b[39;00m \u001b[38;5;21;01msns\u001b[39;00m\n\u001b[0;32m      3\u001b[0m \u001b[38;5;28;01mimport\u001b[39;00m \u001b[38;5;21;01mmatplotlib\u001b[39;00m\u001b[38;5;21;01m.\u001b[39;00m\u001b[38;5;21;01mpyplot\u001b[39;00m \u001b[38;5;28;01mas\u001b[39;00m \u001b[38;5;21;01mplt\u001b[39;00m\n\u001b[0;32m      6\u001b[0m \u001b[38;5;66;03m# make the plot beautiful\u001b[39;00m\n",
      "\u001b[1;31mModuleNotFoundError\u001b[0m: No module named 'seaborn'"
     ]
=======
   "execution_count": 58,
   "metadata": {},
   "outputs": [
    {
     "data": {
      "image/png": "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",
      "text/plain": [
       "<Figure size 1200x600 with 1 Axes>"
      ]
     },
     "metadata": {},
     "output_type": "display_data"
>>>>>>> 148aff94741e96f2c1f67f36c50e9b9a6626efef
    }
   ],
   "source": [
    "\n",
    "# plot a histogram of the differences with seaborn\n",
    "import seaborn as sns\n",
    "import matplotlib.pyplot as plt\n",
    "\n",
    "\n",
    "# make the plot beautiful\n",
    "sns.set(style=\"whitegrid\")\n",
    "plt.figure(figsize=(12,6))\n",
    "sns.histplot(diffs, color=\"blue\", label=\"GNNDelete\", binwidth=0.025)\n",
    "sns.histplot(diffs_2, color=\"red\", label=\"UTU\", binwidth=0.025)\n",
    "sns.histplot(diffs_3, color=\"green\", label=\"Contrastive\", binwidth=0.025)\n",
    "sns.histplot(diffs_4, color=\"orange\", label=\"Scrub\", binwidth=0.025)\n",
    "plt.title(\"Density of nodes against change in prediction probability for poisoned classes\")\n",
    "plt.xlabel(\"Change in prediction probability\")\n",
    "plt.ylabel(\"Density of nodes\")\n",
    "# clip the x-axis to -2, 2\n",
    "\n",
    "plt.xlim(-1, 1)\n",
    "plt.legend()\n",
    "plt.show()\n"
   ]
  },
  {
   "cell_type": "code",
<<<<<<< HEAD
   "execution_count": null,
=======
   "execution_count": 55,
>>>>>>> 148aff94741e96f2c1f67f36c50e9b9a6626efef
   "metadata": {},
   "outputs": [
    {
     "name": "stdout",
     "output_type": "stream",
     "text": [
      "t-statistic: -6.189536982133756\n",
      "p-value: 9.546794091385997e-10\n",
      "Reject the null hypothesis: The mean of absolute contrastive values is significantly lower than that of UTU.\n"
     ]
    }
   ],
   "source": [
    "import numpy as np\n",
    "from scipy.stats import ttest_rel\n",
    "\n",
    "# Assuming you have your arrays contrastive and utu\n",
    "# Example arrays:\n",
    "contrastive = np.array(diffs_3)\n",
    "utu = np.array(diffs_2)\n",
    "\n",
    "# Take the absolute values\n",
    "abs_contrastive = np.abs(contrastive)\n",
    "abs_utu = np.abs(utu)\n",
    "\n",
    "# Perform a paired t-test\n",
    "t_statistic, p_value = ttest_rel(abs_contrastive, abs_utu, alternative='less')\n",
    "\n",
    "print(\"t-statistic:\", t_statistic)\n",
    "print(\"p-value:\", p_value)\n",
    "\n",
    "# Interpret the results\n",
    "alpha = 0.05\n",
    "if p_value < alpha:\n",
    "    print(\"Reject the null hypothesis: The mean of absolute contrastive values is significantly lower than that of UTU.\")\n",
    "else:\n",
    "    print(\"Fail to reject the null hypothesis: No significant difference between the means of absolute contrastive and UTU values.\")\n"
   ]
  },
  {
   "cell_type": "code",
<<<<<<< HEAD
   "execution_count": null,
=======
   "execution_count": 56,
>>>>>>> 148aff94741e96f2c1f67f36c50e9b9a6626efef
   "metadata": {},
   "outputs": [
    {
     "name": "stdout",
     "output_type": "stream",
     "text": [
      "Number of nodes:  1626\n"
     ]
    },
    {
     "data": {
      "image/png": "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",
      "text/plain": [
       "<Figure size 1200x600 with 1 Axes>"
      ]
     },
     "metadata": {},
     "output_type": "display_data"
    }
   ],
   "source": [
    "# # calc kl divergence between retrain and other models and plot histogram\n",
    "# from torch.distributions import kl_divergence\n",
    "\n",
    "# kl_divs = []\n",
    "# kl_divs_2 = []\n",
    "# kl_divs_3 = []\n",
    "\n",
    "# for i in range(len(retain_embs)):\n",
    "#     if poisoned_data.train_mask[i] == 0:\n",
    "#         continue\n",
    "#     kl_div = kl_divergence(torch.distributions.Categorical(probs=retain_embs[i]), torch.distributions.Categorical(probs=unlearn_embs[i]))\n",
    "#     kl_divs.append(kl_div)\n",
    "\n",
    "#     kl_div_2 = kl_divergence(torch.distributions.Categorical(probs=retain_embs[i]), torch.distributions.Categorical(probs=unlearn_embs_utu[i]))\n",
    "#     kl_divs_2.append(kl_div_2)\n",
    "\n",
    "#     kl_div_3 = kl_divergence(torch.distributions.Categorical(probs=retain_embs[i]), torch.distributions.Categorical(probs=unlearn_embs_contrastive[i]))\n",
    "#     kl_divs_3.append(kl_div_3)\n",
    "\n",
    "# print(\"Number of nodes: \", len(kl_divs))\n",
    "\n",
    "# kl_divs = torch.stack(kl_divs).cpu().detach().numpy()\n",
    "\n",
    "# kl_divs_2 = torch.stack(kl_divs_2).cpu().detach().numpy()\n",
    "\n",
    "# kl_divs_3 = torch.stack(kl_divs_3).cpu().detach().numpy()\n",
    "\n",
    "\n",
    "# # plot\n",
    "# plt.figure(figsize=(12, 6))\n",
    "# sns.histplot(kl_divs_3, color=\"green\", label=\"Contrastive\", binwidth=0.05)\n",
    "# sns.histplot(kl_divs_2, color=\"red\", label=\"UTU\", binwidth=0.05)\n",
    "# sns.histplot(kl_divs, color=\"blue\", label=\"GNNDelete\", binwidth=0.05)\n",
    "# plt.title(\"KL divergence between retrain and other models for retain set\")\n",
    "# plt.xlabel(\"KL divergence\")\n",
    "# plt.ylabel(\"Density of nodes\")\n",
    "# plt.xlim(0, 4)\n",
    "# plt.legend()\n",
    "# plt.show()\n"
   ]
  },
  {
   "cell_type": "code",
   "execution_count": null,
   "metadata": {},
   "outputs": [],
   "source": []
  }
 ],
 "metadata": {
  "kernelspec": {
   "display_name": "hoge",
   "language": "python",
   "name": "python3"
  },
  "language_info": {
   "codemirror_mode": {
    "name": "ipython",
    "version": 3
   },
   "file_extension": ".py",
   "mimetype": "text/x-python",
   "name": "python",
   "nbconvert_exporter": "python",
   "pygments_lexer": "ipython3",
   "version": "3.10.1"
  }
 },
 "nbformat": 4,
 "nbformat_minor": 2
}
