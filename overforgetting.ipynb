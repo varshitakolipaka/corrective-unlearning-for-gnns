{
 "cells": [
  {
   "cell_type": "code",
   "execution_count": 1,
   "metadata": {},
   "outputs": [],
   "source": [
    "import copy\n",
    "import torch\n",
    "from framework import utils\n",
    "from framework.training_args import parse_args\n",
    "from models.deletion import GCNDelete\n",
    "from models.models import GCN\n",
    "from trainers.base import Trainer\n",
    "from attacks.edge_attack import edge_attack_specific_nodes\n",
    "from attacks.label_flip import label_flip_attack\n",
    "# import optuna\n",
    "# from optuna.samplers import TPESampler\n",
    "from functools import partial\n"
   ]
  },
  {
   "cell_type": "code",
   "execution_count": 2,
   "metadata": {},
   "outputs": [],
   "source": [
    "args = parse_args()\n",
    "args.attack_type=\"edge\"\n",
    "args.df_size= 2000\n",
    "args.request= \"edge\"\n",
    "utils.seed_everything(args.random_seed)\n",
    "device = torch.device('cuda') if torch.cuda.is_available() else torch.device('cpu')\n",
    "\n",
    "def train():\n",
    "    # dataset\n",
    "    print(\"==TRAINING==\")\n",
    "    clean_data= utils.get_original_data(args.dataset)\n",
    "    utils.train_test_split(clean_data, args.random_seed, args.train_ratio)\n",
    "    utils.prints_stats(clean_data)\n",
    "    if \"gnndelete\" in args.unlearning_model:\n",
    "        clean_model = GCNDelete(clean_data.num_features, args.hidden_dim, clean_data.num_classes)\n",
    "    else:\n",
    "        clean_model = GCN(clean_data.num_features, args.hidden_dim, clean_data.num_classes)\n",
    "\n",
    "    optimizer = torch.optim.Adam(clean_model.parameters(), lr=0.01, weight_decay=5e-4)\n",
    "    clean_trainer = Trainer(clean_model, clean_data, optimizer, args.training_epochs)\n",
    "    clean_trainer.train()\n",
    "    a_p, a_c = clean_trainer.subset_acc(3,2)\n",
    "    print(f\"Accuracy on poisoned classes: {a_p}\")\n",
    "    print(f\"Accuracy on clean classes: {a_c}\")\n",
    "    return clean_data, clean_model\n",
    "\n",
    "def poison(clean_data):\n",
    "    print(\"==POISONING==\")\n",
    "    if args.attack_type==\"label\":\n",
    "        poisoned_data, poisoned_indices = label_flip_attack(clean_data, args.df_size, args.random_seed)\n",
    "    elif args.attack_type==\"edge\":\n",
    "        poisoned_data, poisoned_indices = edge_attack_specific_nodes(clean_data, args.df_size, args.random_seed)\n",
    "    elif args.attack_type==\"random\":\n",
    "        poisoned_data = copy.deepcopy(clean_data)\n",
    "        poisoned_indices = torch.randperm(clean_data.num_nodes)[:int(clean_data.num_nodes*args.df_size)]\n",
    "    poisoned_data= poisoned_data.to(device)\n",
    "\n",
    "    if \"gnndelete\" in args.unlearning_model:\n",
    "        poisoned_model = GCNDelete(poisoned_data.num_features, args.hidden_dim, poisoned_data.num_classes)\n",
    "    else:\n",
    "        poisoned_model = GCN(poisoned_data.num_features, args.hidden_dim, poisoned_data.num_classes)\n",
    "\n",
    "    optimizer = torch.optim.Adam(poisoned_model.parameters(), lr=0.01, weight_decay=5e-4)\n",
    "    poisoned_trainer = Trainer(poisoned_model, poisoned_data, optimizer, args.training_epochs)\n",
    "    poisoned_trainer.train()\n",
    "    a_p, a_c = poisoned_trainer.subset_acc()\n",
    "    print(f\"Accuracy on poisoned classes: {a_p}\")\n",
    "    print(f\"Accuracy on clean classes: {a_c}\")\n",
    "    return poisoned_data, poisoned_indices, poisoned_model\n",
    "\n",
    "def unlearn(poisoned_data, poisoned_indices, poisoned_model):\n",
    "    print(\"==UNLEARNING==\")\n",
    "\n",
    "    utils.find_masks(poisoned_data, poisoned_indices, args, attack_type=args.attack_type)\n",
    "    unlearn_model = None\n",
    "    if \"gnndelete\" in args.unlearning_model:\n",
    "        unlearn_model = GCNDelete(poisoned_data.num_features, args.hidden_dim, poisoned_data.num_classes, mask_1hop=poisoned_data.sdf_node_1hop_mask, mask_2hop=poisoned_data.sdf_node_2hop_mask)\n",
    "\n",
    "        # copy the weights from the poisoned model\n",
    "        unlearn_model.load_state_dict(poisoned_model.state_dict())\n",
    "\n",
    "        optimizer_unlearn= utils.get_optimizer(args, unlearn_model)\n",
    "        unlearn_trainer= utils.get_trainer(args, unlearn_model, poisoned_data, optimizer_unlearn)\n",
    "        unlearn_trainer.train()\n",
    "    elif \"retrain\" in args.unlearning_model:\n",
    "        unlearn_model = GCN(poisoned_data.num_features, args.hidden_dim, poisoned_data.num_classes)\n",
    "        optimizer_unlearn= utils.get_optimizer(args, unlearn_model)\n",
    "        unlearn_trainer= utils.get_trainer(args, unlearn_model, poisoned_data, optimizer_unlearn)\n",
    "        unlearn_trainer.train()\n",
    "    else:\n",
    "        unlearn_model = GCN(poisoned_data.num_features, args.hidden_dim, poisoned_data.num_classes)\n",
    "        unlearn_model.load_state_dict(poisoned_model.state_dict())\n",
    "        optimizer_unlearn= utils.get_optimizer(args, unlearn_model)\n",
    "        unlearn_trainer= utils.get_trainer(args, unlearn_model, poisoned_data, optimizer_unlearn)\n",
    "        unlearn_trainer.train()\n",
    "    a_p, a_c = unlearn_trainer.subset_acc()\n",
    "    print(f\"Accuracy on poisoned classes: {a_p}\")\n",
    "    print(f\"Accuracy on clean classes: {a_c}\")\n",
    "\n",
    "    print(\"==UNLEARNING DONE==\")\n",
    "    return unlearn_model"
   ]
  },
  {
   "cell_type": "code",
   "execution_count": null,
   "metadata": {},
   "outputs": [],
   "source": []
  },
  {
   "cell_type": "code",
   "execution_count": 3,
   "metadata": {},
   "outputs": [
    {
     "name": "stdout",
     "output_type": "stream",
     "text": [
      "==TRAINING==\n",
      "Number of nodes:  2708\n",
      "Number of edges:  10556\n",
      "Number of features:  1433\n",
      "Number of classes:  7\n",
      "Number of training nodes:  2166\n",
      "Number of testing nodes:  542\n"
     ]
    },
    {
     "name": "stderr",
     "output_type": "stream",
     "text": [
      "Epoch: 100%|██████████| 600/600 [00:09<00:00, 65.73it/s]\n"
     ]
    },
    {
     "name": "stdout",
     "output_type": "stream",
     "text": [
      "Train Acc: 0.8966789667896679, Misclassification: 0,  F1 Score: 0.8966789667896679\n",
      "Poisoned class: 3 -> 2 | Clean classes: [0, 1, 4, 5, 6]\n",
      "Poisoned class acc: [0.926829268292683, 0.9701492537313433] | Clean class acc: [0.7777777777777778, 0.8695652173913043, 0.9207920792079208, 0.8688524590163934, 0.8709677419354839]\n",
      "Accuracy on poisoned classes: 0.9484892610120131\n",
      "Accuracy on clean classes: 0.861591055065776\n",
      "==POISONING==\n"
     ]
    },
    {
     "name": "stderr",
     "output_type": "stream",
     "text": [
      "Adding Poisoned Edges:  68%|██████▊   | 1366/2000 [00:00<00:00, 29608.64it/s]\n",
      "Epoch: 100%|██████████| 600/600 [00:09<00:00, 62.02it/s]"
     ]
    },
    {
     "name": "stdout",
     "output_type": "stream",
     "text": [
      "Train Acc: 0.8505535055350554, Misclassification: 0.11255411255411256,  F1 Score: 0.8505535055350554\n",
      "Poisoned class: 3 -> 2 | Clean classes: [0, 1, 4, 5, 6]\n",
      "Poisoned class acc: [0.8780487804878049, 0.7164179104477612] | Clean class acc: [0.7777777777777778, 0.8260869565217391, 0.9306930693069307, 0.8852459016393442, 0.8709677419354839]\n",
      "Accuracy on poisoned classes: 0.797233345467783\n",
      "Accuracy on clean classes: 0.858154289436255\n"
     ]
    },
    {
     "name": "stderr",
     "output_type": "stream",
     "text": [
      "\n"
     ]
    }
   ],
   "source": [
    "clean_data, clean_model = train()\n",
    "poisoned_data, poisoned_indices, poisoned_model = poison(clean_data)"
   ]
  },
  {
   "cell_type": "code",
   "execution_count": 5,
   "metadata": {},
   "outputs": [
    {
     "name": "stdout",
     "output_type": "stream",
     "text": [
      "==UNLEARNING==\n",
      "parameters_to_optimize ['conv1.bias', 'conv1.lin.weight', 'conv2.bias', 'conv2.lin.weight']\n"
     ]
    },
    {
     "name": "stderr",
     "output_type": "stream",
     "text": [
      "Epoch:   0%|          | 0/600 [00:00<?, ?it/s]"
     ]
    },
    {
     "name": "stderr",
     "output_type": "stream",
     "text": [
      "Epoch: 100%|██████████| 600/600 [00:10<00:00, 54.68it/s]"
     ]
    },
    {
     "name": "stdout",
     "output_type": "stream",
     "text": [
      "Training Time: 10.975851058959961\n",
      "Train Acc: 0.8357933579335793, Misclassification: 0.05194805194805195,  F1 Score: 0.8357933579335793\n",
      "Poisoned class: 3 -> 2 | Clean classes: [0, 1, 4, 5, 6]\n",
      "Poisoned class acc: [0.8414634146341463, 0.8805970149253731] | Clean class acc: [0.6527777777777778, 0.8478260869565217, 0.9108910891089109, 0.8524590163934426, 0.8387096774193549]\n",
      "Accuracy on poisoned classes: 0.8610302147797597\n",
      "Accuracy on clean classes: 0.8205327295312015\n",
      "==UNLEARNING DONE==\n"
     ]
    },
    {
     "name": "stderr",
     "output_type": "stream",
     "text": [
      "\n"
     ]
    }
   ],
   "source": [
    "args.unlearning_model=\"retrain\"\n",
    "args.unlearning_epochs=600\n",
    "retrain_model = unlearn(poisoned_data, poisoned_indices, poisoned_model)"
   ]
  },
  {
   "cell_type": "code",
   "execution_count": 4,
   "metadata": {},
   "outputs": [
    {
     "name": "stdout",
     "output_type": "stream",
     "text": [
      "==UNLEARNING==\n",
      "HAHAHAHAHHHA\n",
      "parameters_to_optimize ['deletion1.deletion_weight', 'deletion2.deletion_weight']\n"
     ]
    },
    {
     "name": "stderr",
     "output_type": "stream",
     "text": [
      "Unlearning: 100%|██████████| 11/11 [00:00<00:00, 44.33it/s]"
     ]
    },
    {
     "name": "stdout",
     "output_type": "stream",
     "text": [
      "Train Acc: 0.6808118081180812, Misclassification: 0.29004329004329005,  F1 Score: 0.6808118081180812\n",
      "Poisoned class: 3 -> 2 | Clean classes: [0, 1, 4, 5, 6]\n",
      "Poisoned class acc: [0.9939024390243902, 0.0] | Clean class acc: [0.4583333333333333, 0.5217391304347826, 0.8613861386138614, 0.7049180327868853, 0.6129032258064516]\n",
      "Accuracy on poisoned classes: 0.4969512195121951\n",
      "Accuracy on clean classes: 0.6318559721950628\n",
      "==UNLEARNING DONE==\n"
     ]
    },
    {
     "name": "stderr",
     "output_type": "stream",
     "text": [
      "\n"
     ]
    }
   ],
   "source": [
    "args.unlearning_model=\"gnndelete\"\n",
    "args.alpha=0.13562502173631136\n",
    "args.loss_type=\"only2_layerwise\"\n",
    "args.unlearn_lr= 0.004471589952882114\n",
    "args.unlearning_epochs= 11\n",
    "args.weight_decay=0.005860530613250786\n",
    "unlearn_model = unlearn(poisoned_data, poisoned_indices, poisoned_model)"
   ]
  },
  {
   "cell_type": "code",
   "execution_count": 6,
   "metadata": {},
   "outputs": [
    {
     "name": "stdout",
     "output_type": "stream",
     "text": [
      "==TRAINING==\n",
      "Number of nodes:  2708\n",
      "Number of edges:  10556\n",
      "Number of features:  1433\n",
      "Number of classes:  7\n",
      "Number of training nodes:  2166\n",
      "Number of testing nodes:  542\n"
     ]
    },
    {
     "name": "stderr",
     "output_type": "stream",
     "text": [
      "Epoch: 100%|██████████| 600/600 [00:10<00:00, 58.65it/s]\n"
     ]
    },
    {
     "name": "stdout",
     "output_type": "stream",
     "text": [
      "Train Acc: 0.8966789667896679, Misclassification: 0,  F1 Score: 0.8966789667896679\n",
      "Poisoned class: 3 -> 2 | Clean classes: [0, 1, 4, 5, 6]\n",
      "Poisoned class acc: [0.926829268292683, 0.9701492537313433] | Clean class acc: [0.7777777777777778, 0.8695652173913043, 0.9207920792079208, 0.8688524590163934, 0.8709677419354839]\n",
      "Accuracy on poisoned classes: 0.9484892610120131\n",
      "Accuracy on clean classes: 0.861591055065776\n",
      "==POISONING==\n"
     ]
    },
    {
     "name": "stderr",
     "output_type": "stream",
     "text": [
      "Adding Poisoned Edges:  68%|██████▊   | 1366/2000 [00:00<00:00, 31066.22it/s]\n",
      "Epoch: 100%|██████████| 600/600 [00:11<00:00, 50.27it/s]"
     ]
    },
    {
     "name": "stdout",
     "output_type": "stream",
     "text": [
      "Train Acc: 0.8505535055350554, Misclassification: 0.11688311688311688,  F1 Score: 0.8505535055350554\n",
      "Poisoned class: 3 -> 2 | Clean classes: [0, 1, 4, 5, 6]\n",
      "Poisoned class acc: [0.8719512195121951, 0.7164179104477612] | Clean class acc: [0.7777777777777778, 0.8260869565217391, 0.9405940594059405, 0.8852459016393442, 0.8709677419354839]\n",
      "Accuracy on poisoned classes: 0.7941845649799781\n",
      "Accuracy on clean classes: 0.860134487456057\n",
      "==UNLEARNING==\n",
      "parameters_to_optimize ['conv1.bias', 'conv1.lin.weight', 'conv2.bias', 'conv2.lin.weight']\n",
      "Train Acc: 0.8653136531365314, Misclassification: 0.06060606060606061,  F1 Score: 0.8653136531365314\n",
      "Poisoned class: 3 -> 2 | Clean classes: [0, 1, 4, 5, 6]\n",
      "Poisoned class acc: [0.8475609756097561, 0.8955223880597015] | Clean class acc: [0.7916666666666666, 0.8260869565217391, 0.9405940594059405, 0.8688524590163934, 0.8709677419354839]\n",
      "Accuracy on poisoned classes: 0.8715416818347288\n",
      "Accuracy on clean classes: 0.8596335767092447\n",
      "==UNLEARNING DONE==\n"
     ]
    },
    {
     "name": "stderr",
     "output_type": "stream",
     "text": [
      "\n"
     ]
    }
   ],
   "source": [
    "args.unlearning_model=\"utu\"\n",
    "clean_data, clean_model = train()\n",
    "poisoned_data, poisoned_indices, poisoned_model = poison(clean_data)\n",
    "args.unlearning_epochs=1\n",
    "unlearn_model_utu = unlearn(poisoned_data, poisoned_indices, poisoned_model)"
   ]
  },
  {
   "cell_type": "code",
   "execution_count": 7,
   "metadata": {},
   "outputs": [
    {
     "name": "stdout",
     "output_type": "stream",
     "text": [
      "==TRAINING==\n",
      "Number of nodes:  2708\n",
      "Number of edges:  10556\n",
      "Number of features:  1433\n",
      "Number of classes:  7\n",
      "Number of training nodes:  2166\n",
      "Number of testing nodes:  542\n"
     ]
    },
    {
     "name": "stderr",
     "output_type": "stream",
     "text": [
      "Epoch: 100%|██████████| 600/600 [00:09<00:00, 61.78it/s]\n"
     ]
    },
    {
     "name": "stdout",
     "output_type": "stream",
     "text": [
      "Train Acc: 0.8966789667896679, Misclassification: 0,  F1 Score: 0.8966789667896679\n",
      "Poisoned class: 3 -> 2 | Clean classes: [0, 1, 4, 5, 6]\n",
      "Poisoned class acc: [0.926829268292683, 0.9701492537313433] | Clean class acc: [0.7777777777777778, 0.8695652173913043, 0.9207920792079208, 0.8688524590163934, 0.8709677419354839]\n",
      "Accuracy on poisoned classes: 0.9484892610120131\n",
      "Accuracy on clean classes: 0.861591055065776\n",
      "==POISONING==\n"
     ]
    },
    {
     "name": "stderr",
     "output_type": "stream",
     "text": [
      "Adding Poisoned Edges:  68%|██████▊   | 1366/2000 [00:00<00:00, 24145.73it/s]\n",
      "Epoch: 100%|██████████| 600/600 [00:11<00:00, 52.00it/s]\n"
     ]
    },
    {
     "name": "stdout",
     "output_type": "stream",
     "text": [
      "Train Acc: 0.8523985239852399, Misclassification: 0.11688311688311688,  F1 Score: 0.8523985239852399\n",
      "Poisoned class: 3 -> 2 | Clean classes: [0, 1, 4, 5, 6]\n",
      "Poisoned class acc: [0.8719512195121951, 0.7164179104477612] | Clean class acc: [0.7777777777777778, 0.8260869565217391, 0.9405940594059405, 0.9016393442622951, 0.8709677419354839]\n",
      "Accuracy on poisoned classes: 0.7941845649799781\n",
      "Accuracy on clean classes: 0.8634131759806472\n",
      "==UNLEARNING==\n",
      "parameters_to_optimize ['conv1.bias', 'conv1.lin.weight', 'conv2.bias', 'conv2.lin.weight']\n"
     ]
    },
    {
     "name": "stderr",
     "output_type": "stream",
     "text": [
      "Unlearning 1: 100%|██████████| 30/30 [04:17<00:00,  8.60s/it]\n",
      "Unlearning 2: 100%|██████████| 10/10 [00:00<00:00, 51.26it/s]"
     ]
    },
    {
     "name": "stdout",
     "output_type": "stream",
     "text": [
      "Train Acc: 0.8616236162361623, Misclassification: 0.06060606060606061,  F1 Score: 0.8616236162361623\n",
      "Training time: 259.0810399055481\n",
      "Poisoned class: 3 -> 2 | Clean classes: [0, 1, 4, 5, 6]\n",
      "Poisoned class acc: [0.8414634146341463, 0.8805970149253731] | Clean class acc: [0.75, 0.8695652173913043, 0.9405940594059405, 0.8852459016393442, 0.8709677419354839]\n",
      "Accuracy on poisoned classes: 0.8610302147797597\n",
      "Accuracy on clean classes: 0.8632745840744146\n",
      "==UNLEARNING DONE==\n"
     ]
    },
    {
     "name": "stderr",
     "output_type": "stream",
     "text": [
      "\n"
     ]
    }
   ],
   "source": [
    "args.unlearning_model=\"contrastive\"\n",
    "clean_data, clean_model = train()\n",
    "poisoned_data, poisoned_indices, poisoned_model = poison(clean_data)\n",
    "args.unlearning_epochs=1\n",
    "unlearn_model_contrastive = unlearn(poisoned_data, poisoned_indices, poisoned_model)"
   ]
  },
  {
   "cell_type": "code",
   "execution_count": 8,
   "metadata": {},
   "outputs": [
    {
     "name": "stdout",
     "output_type": "stream",
     "text": [
      "Number of nodes:  231\n",
      "(231,)\n",
      "(231,)\n",
      "(231,)\n"
     ]
    }
   ],
   "source": [
    "import torch.nn.functional as F\n",
    "\n",
    "# compare p_retrain - p_unlearn for retain mask and plot density of nodes against change in prediction probability\n",
    "diffs = []\n",
    "retain_embs = F.softmax(clean_model(clean_data.x, clean_data.edge_index), dim=1)\n",
    "\n",
    "unlearn_embs = F.softmax(unlearn_model(poisoned_data.x, poisoned_data.edge_index[:,poisoned_data.dr_mask]), dim=1)\n",
    "\n",
    "diffs_2 = []\n",
    "unlearn_embs_utu = F.softmax(unlearn_model_utu(poisoned_data.x, poisoned_data.edge_index[:,poisoned_data.dr_mask]), dim=1)\n",
    "\n",
    "diffs_3 = []\n",
    "unlearn_embs_contrastive = F.softmax(unlearn_model_contrastive(poisoned_data.x, poisoned_data.edge_index[:,poisoned_data.dr_mask]), dim=1)\n",
    "\n",
    "for i in range(len(retain_embs)):\n",
    "    if poisoned_data.test_mask[i] == 0:\n",
    "        continue\n",
    "    if poisoned_data.y[i] == poisoned_data.class1 or poisoned_data.y[i] == poisoned_data.class2:\n",
    "        # continue\n",
    "        diff = retain_embs[i] - unlearn_embs[i]\n",
    "        diffs.append(diff)\n",
    "\n",
    "        diff_2 = retain_embs[i] - unlearn_embs_utu[i]\n",
    "        diffs_2.append(diff_2)\n",
    "\n",
    "        diff_3 = retain_embs[i] - unlearn_embs_contrastive[i]\n",
    "        diffs_3.append(diff_3)\n",
    "\n",
    "print(\"Number of nodes: \", len(diffs))\n",
    "\n",
    "diffs = torch.stack(diffs).cpu().detach().numpy()\n",
    "diffs_2 = torch.stack(diffs_2).cpu().detach().numpy()\n",
    "diffs_3 = torch.stack(diffs_3).cpu().detach().numpy()\n",
    "\n",
    "# normalize the differences to a gaussian with mean 0 and std 1 for each class\n",
    "diffs = (diffs - diffs.mean(axis=0)) / diffs.std(axis=0)\n",
    "diffs_2 = (diffs_2 - diffs_2.mean(axis=0)) / diffs_2.std(axis=0)\n",
    "diffs_3 = (diffs_3 - diffs_3.mean(axis=0)) / diffs_3.std(axis=0)\n",
    "\n",
    "# take mean across all classes\n",
    "diffs = diffs.mean(axis=1)\n",
    "diffs_2 = diffs_2.mean(axis=1)\n",
    "diffs_3 = diffs_3.mean(axis=1)\n",
    "\n",
    "print(diffs.shape)\n",
    "print(diffs_2.shape)\n",
    "print(diffs_3.shape)"
   ]
  },
  {
   "cell_type": "code",
   "execution_count": 9,
   "metadata": {},
   "outputs": [
    {
     "ename": "ModuleNotFoundError",
     "evalue": "No module named 'seaborn'",
     "output_type": "error",
     "traceback": [
      "\u001b[1;31m---------------------------------------------------------------------------\u001b[0m",
      "\u001b[1;31mModuleNotFoundError\u001b[0m                       Traceback (most recent call last)",
      "Cell \u001b[1;32mIn[9], line 2\u001b[0m\n\u001b[0;32m      1\u001b[0m \u001b[38;5;66;03m# plot a histogram of the differences with seaborn\u001b[39;00m\n\u001b[1;32m----> 2\u001b[0m \u001b[38;5;28;01mimport\u001b[39;00m \u001b[38;5;21;01mseaborn\u001b[39;00m \u001b[38;5;28;01mas\u001b[39;00m \u001b[38;5;21;01msns\u001b[39;00m\n\u001b[0;32m      3\u001b[0m \u001b[38;5;28;01mimport\u001b[39;00m \u001b[38;5;21;01mmatplotlib\u001b[39;00m\u001b[38;5;21;01m.\u001b[39;00m\u001b[38;5;21;01mpyplot\u001b[39;00m \u001b[38;5;28;01mas\u001b[39;00m \u001b[38;5;21;01mplt\u001b[39;00m\n\u001b[0;32m      6\u001b[0m \u001b[38;5;66;03m# make the plot beautiful\u001b[39;00m\n",
      "\u001b[1;31mModuleNotFoundError\u001b[0m: No module named 'seaborn'"
     ]
    }
   ],
   "source": [
    "\n",
    "# plot a histogram of the differences with seaborn\n",
    "import seaborn as sns\n",
    "import matplotlib.pyplot as plt\n",
    "\n",
    "\n",
    "# make the plot beautiful\n",
    "sns.set(style=\"whitegrid\")\n",
    "plt.figure(figsize=(4,4))\n",
    "sns.histplot(diffs_3, color=\"green\", label=\"Contrastive\", binwidth=0.025)\n",
    "sns.histplot(diffs_2, color=\"red\", label=\"UTU\", binwidth=0.025)\n",
    "sns.histplot(diffs, color=\"blue\", label=\"GNNDelete\", binwidth=0.025)\n",
    "plt.title(\"Density of nodes against change in prediction probability for poisoned classes\")\n",
    "plt.xlabel(\"Change in prediction probability\")\n",
    "plt.ylabel(\"Density of nodes\")\n",
    "# clip the x-axis to -2, 2\n",
    "\n",
    "plt.xlim(-1, 1)\n",
    "plt.legend()\n",
    "plt.show()\n"
   ]
  },
  {
   "cell_type": "code",
   "execution_count": null,
   "metadata": {},
   "outputs": [
    {
     "name": "stdout",
     "output_type": "stream",
     "text": [
      "t-statistic: -0.8013807093977614\n",
      "p-value: 0.21176254631026953\n",
      "Fail to reject the null hypothesis: No significant difference between the means of absolute contrastive and UTU values.\n"
     ]
    }
   ],
   "source": [
    "import numpy as np\n",
    "from scipy.stats import ttest_rel\n",
    "\n",
    "# Assuming you have your arrays contrastive and utu\n",
    "# Example arrays:\n",
    "contrastive = np.array(diffs_3)\n",
    "utu = np.array(diffs_2)\n",
    "\n",
    "# Take the absolute values\n",
    "abs_contrastive = np.abs(contrastive)\n",
    "abs_utu = np.abs(utu)\n",
    "\n",
    "# Perform a paired t-test\n",
    "t_statistic, p_value = ttest_rel(abs_contrastive, abs_utu, alternative='less')\n",
    "\n",
    "print(\"t-statistic:\", t_statistic)\n",
    "print(\"p-value:\", p_value)\n",
    "\n",
    "# Interpret the results\n",
    "alpha = 0.05\n",
    "if p_value < alpha:\n",
    "    print(\"Reject the null hypothesis: The mean of absolute contrastive values is significantly lower than that of UTU.\")\n",
    "else:\n",
    "    print(\"Fail to reject the null hypothesis: No significant difference between the means of absolute contrastive and UTU values.\")\n"
   ]
  },
  {
   "cell_type": "code",
   "execution_count": null,
   "metadata": {},
   "outputs": [
    {
     "name": "stdout",
     "output_type": "stream",
     "text": [
      "Number of nodes:  1518\n"
     ]
    },
    {
     "data": {
      "image/png": "[encoded data removed]",
      "text/plain": [
       "<Figure size 1200x600 with 1 Axes>"
      ]
     },
     "metadata": {},
     "output_type": "display_data"
    }
   ],
   "source": [
    "# # calc kl divergence between retrain and other models and plot histogram\n",
    "# from torch.distributions import kl_divergence\n",
    "\n",
    "# kl_divs = []\n",
    "# kl_divs_2 = []\n",
    "# kl_divs_3 = []\n",
    "\n",
    "# for i in range(len(retain_embs)):\n",
    "#     if poisoned_data.train_mask[i] == 0:\n",
    "#         continue\n",
    "#     kl_div = kl_divergence(torch.distributions.Categorical(probs=retain_embs[i]), torch.distributions.Categorical(probs=unlearn_embs[i]))\n",
    "#     kl_divs.append(kl_div)\n",
    "\n",
    "#     kl_div_2 = kl_divergence(torch.distributions.Categorical(probs=retain_embs[i]), torch.distributions.Categorical(probs=unlearn_embs_utu[i]))\n",
    "#     kl_divs_2.append(kl_div_2)\n",
    "\n",
    "#     kl_div_3 = kl_divergence(torch.distributions.Categorical(probs=retain_embs[i]), torch.distributions.Categorical(probs=unlearn_embs_contrastive[i]))\n",
    "#     kl_divs_3.append(kl_div_3)\n",
    "\n",
    "# print(\"Number of nodes: \", len(kl_divs))\n",
    "\n",
    "# kl_divs = torch.stack(kl_divs).cpu().detach().numpy()\n",
    "\n",
    "# kl_divs_2 = torch.stack(kl_divs_2).cpu().detach().numpy()\n",
    "\n",
    "# kl_divs_3 = torch.stack(kl_divs_3).cpu().detach().numpy()\n",
    "\n",
    "\n",
    "# # plot\n",
    "# plt.figure(figsize=(12, 6))\n",
    "# sns.histplot(kl_divs_3, color=\"green\", label=\"Contrastive\", binwidth=0.05)\n",
    "# sns.histplot(kl_divs_2, color=\"red\", label=\"UTU\", binwidth=0.05)\n",
    "# sns.histplot(kl_divs, color=\"blue\", label=\"GNNDelete\", binwidth=0.05)\n",
    "# plt.title(\"KL divergence between retrain and other models for retain set\")\n",
    "# plt.xlabel(\"KL divergence\")\n",
    "# plt.ylabel(\"Density of nodes\")\n",
    "# plt.xlim(0, 4)\n",
    "# plt.legend()\n",
    "# plt.show()\n"
   ]
  },
  {
   "cell_type": "code",
   "execution_count": null,
   "metadata": {},
   "outputs": [],
   "source": []
  }
 ],
 "metadata": {
  "kernelspec": {
   "display_name": "hoge",
   "language": "python",
   "name": "python3"
  },
  "language_info": {
   "codemirror_mode": {
    "name": "ipython",
    "version": 3
   },
   "file_extension": ".py",
   "mimetype": "text/x-python",
   "name": "python",
   "nbconvert_exporter": "python",
   "pygments_lexer": "ipython3",
   "version": "3.10.1"
  }
 },
 "nbformat": 4,
 "nbformat_minor": 2
}
